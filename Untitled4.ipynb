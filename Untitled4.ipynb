{
  "nbformat": 4,
  "nbformat_minor": 0,
  "metadata": {
    "colab": {
      "name": "Untitled4.ipynb",
      "provenance": [],
      "authorship_tag": "ABX9TyNjnObp9hWIK4ayx7uq3yKG",
      "include_colab_link": true
    },
    "kernelspec": {
      "name": "python3",
      "display_name": "Python 3"
    }
  },
  "cells": [
    {
      "cell_type": "markdown",
      "metadata": {
        "id": "view-in-github",
        "colab_type": "text"
      },
      "source": [
        "<a href=\"https://colab.research.google.com/github/wagner719/data_science/blob/master/Untitled4.ipynb\" target=\"_parent\"><img src=\"https://colab.research.google.com/assets/colab-badge.svg\" alt=\"Open In Colab\"/></a>"
      ]
    },
    {
      "cell_type": "code",
      "metadata": {
        "id": "bN-avtdYPy66"
      },
      "source": [
        "import pandas as pd\r\n",
        "import matplotlib.pyplot as plt\r\n",
        "\r\n",
        "df = pd.read_csv(\"housing_ok.csv\")"
      ],
      "execution_count": 1,
      "outputs": []
    },
    {
      "cell_type": "code",
      "metadata": {
        "id": "iK3LbGPqRFBd"
      },
      "source": [
        "df.info()"
      ],
      "execution_count": null,
      "outputs": []
    },
    {
      "cell_type": "code",
      "metadata": {
        "id": "bpwQj4vBRWLk"
      },
      "source": [
        "print(df.quartos.unique())\r\n",
        "print(df.vagas.unique())\r\n",
        "print(df.banheiros.unique())"
      ],
      "execution_count": null,
      "outputs": []
    },
    {
      "cell_type": "code",
      "metadata": {
        "id": "6zvkPW1-SBVS"
      },
      "source": [
        "#DataFrame.nome_da_coluna.astype(\"tipo\")\r\n",
        "df.quartos = df.quartos.astype(\"int8\").copy()\r\n",
        "df.vagas = df.vagas.astype(\"int8\").copy()\r\n",
        "df.banheiro = df.banheiros.astype(\"int8\").copy()\r\n",
        "\r\n",
        "df.info()"
      ],
      "execution_count": null,
      "outputs": []
    },
    {
      "cell_type": "markdown",
      "metadata": {
        "id": "PA1Mls-VS9Hx"
      },
      "source": [
        "plotar gráfico associado ao números de quartos"
      ]
    },
    {
      "cell_type": "code",
      "metadata": {
        "colab": {
          "base_uri": "https://localhost:8080/",
          "height": 281
        },
        "id": "bNfnW0N5S5jq",
        "outputId": "aa52e450-9928-4f0f-91c8-dd865c4d82c1"
      },
      "source": [
        "#DataFrame.nome_da_coluna.value_counts()\r\n",
        "quartos_freq = df.quartos.value_counts()\r\n",
        "quartos_freq.values\r\n",
        "plt.bar(quartos_freq.index, quartos_freq.values)\r\n"
      ],
      "execution_count": 12,
      "outputs": [
        {
          "output_type": "execute_result",
          "data": {
            "text/plain": [
              "<BarContainer object of 8 artists>"
            ]
          },
          "metadata": {
            "tags": []
          },
          "execution_count": 12
        },
        {
          "output_type": "display_data",
          "data": {
            "image/png": "[encoded data removed]",
            "text/plain": [
              "<Figure size 432x288 with 1 Axes>"
            ]
          },
          "metadata": {
            "tags": [],
            "needs_background": "light"
          }
        }
      ]
    },
    {
      "cell_type": "code",
      "metadata": {
        "colab": {
          "base_uri": "https://localhost:8080/",
          "height": 363
        },
        "id": "RUVuXNiuUcCf",
        "outputId": "f2f5086f-e6f7-48a3-cd1d-36969b2264cd"
      },
      "source": [
        "plt.hist(df.preco)"
      ],
      "execution_count": 13,
      "outputs": [
        {
          "output_type": "execute_result",
          "data": {
            "text/plain": [
              "(array([1.179e+03, 1.146e+03, 3.480e+02, 1.040e+02, 3.800e+01, 1.000e+01,\n",
              "        3.000e+00, 2.000e+00, 1.000e+00, 1.000e+00]),\n",
              " array([ 131000.,  917900., 1704800., 2491700., 3278600., 4065500.,\n",
              "        4852400., 5639300., 6426200., 7213100., 8000000.]),\n",
              " <a list of 10 Patch objects>)"
            ]
          },
          "metadata": {
            "tags": []
          },
          "execution_count": 13
        },
        {
          "output_type": "display_data",
          "data": {
            "image/png": "[encoded data removed]",
            "text/plain": [
              "<Figure size 432x288 with 1 Axes>"
            ]
          },
          "metadata": {
            "tags": [],
            "needs_background": "light"
          }
        }
      ]
    },
    {
      "cell_type": "code",
      "metadata": {
        "colab": {
          "base_uri": "https://localhost:8080/",
          "height": 363
        },
        "id": "roJ2D6GcUrHH",
        "outputId": "618eade5-275f-4d2e-a265-96cf09696987"
      },
      "source": [
        "plt.hist(df[df.preco < 5e6].preco)"
      ],
      "execution_count": 16,
      "outputs": [
        {
          "output_type": "execute_result",
          "data": {
            "text/plain": [
              "(array([ 336., 1136.,  683.,  360.,  158.,   78.,   39.,   16.,   14.,\n",
              "           5.]),\n",
              " array([ 131000.,  598150., 1065300., 1532450., 1999600., 2466750.,\n",
              "        2933900., 3401050., 3868200., 4335350., 4802500.]),\n",
              " <a list of 10 Patch objects>)"
            ]
          },
          "metadata": {
            "tags": []
          },
          "execution_count": 16
        },
        {
          "output_type": "display_data",
          "data": {
            "image/png": "[encoded data removed]",
            "text/plain": [
              "<Figure size 432x288 with 1 Axes>"
            ]
          },
          "metadata": {
            "tags": [],
            "needs_background": "light"
          }
        }
      ]
    },
    {
      "cell_type": "code",
      "metadata": {
        "colab": {
          "base_uri": "https://localhost:8080/",
          "height": 363
        },
        "id": "uTGznm5pVFAU",
        "outputId": "47ec9d5c-7b34-40ad-bb84-1895605e5aa8"
      },
      "source": [
        "plt.hist(df[df.tipo == \"casa\"].preco)"
      ],
      "execution_count": 18,
      "outputs": [
        {
          "output_type": "execute_result",
          "data": {
            "text/plain": [
              "(array([6.900e+02, 1.042e+03, 3.460e+02, 1.010e+02, 3.800e+01, 1.000e+01,\n",
              "        3.000e+00, 2.000e+00, 1.000e+00, 1.000e+00]),\n",
              " array([ 131000.,  917900., 1704800., 2491700., 3278600., 4065500.,\n",
              "        4852400., 5639300., 6426200., 7213100., 8000000.]),\n",
              " <a list of 10 Patch objects>)"
            ]
          },
          "metadata": {
            "tags": []
          },
          "execution_count": 18
        },
        {
          "output_type": "display_data",
          "data": {
            "image/png": "[encoded data removed]",
            "text/plain": [
              "<Figure size 432x288 with 1 Axes>"
            ]
          },
          "metadata": {
            "tags": [],
            "needs_background": "light"
          }
        }
      ]
    },
    {
      "cell_type": "code",
      "metadata": {
        "colab": {
          "base_uri": "https://localhost:8080/",
          "height": 346
        },
        "id": "YkCIYiqhVoS9",
        "outputId": "efab30e1-3dec-452b-a92d-dff3e6d65ff4"
      },
      "source": [
        "plt.hist(df[df.tipo == \"kitnet\"].preco)"
      ],
      "execution_count": 19,
      "outputs": [
        {
          "output_type": "execute_result",
          "data": {
            "text/plain": [
              "(array([ 62., 166.,  89.,  29.,   7.,   2.,   1.,   0.,   0.,   1.]),\n",
              " array([ 185000.,  412500.,  640000.,  867500., 1095000., 1322500.,\n",
              "        1550000., 1777500., 2005000., 2232500., 2460000.]),\n",
              " <a list of 10 Patch objects>)"
            ]
          },
          "metadata": {
            "tags": []
          },
          "execution_count": 19
        },
        {
          "output_type": "display_data",
          "data": {
            "image/png": "[encoded data removed]",
            "text/plain": [
              "<Figure size 432x288 with 1 Axes>"
            ]
          },
          "metadata": {
            "tags": [],
            "needs_background": "light"
          }
        }
      ]
    },
    {
      "cell_type": "code",
      "metadata": {
        "colab": {
          "base_uri": "https://localhost:8080/",
          "height": 346
        },
        "id": "naKBdGk0VsNf",
        "outputId": "85175ff1-abad-4d5a-b736-85b92e6dd263"
      },
      "source": [
        "plt.hist(df[df.tipo == \"apartamento\"].preco)"
      ],
      "execution_count": 20,
      "outputs": [
        {
          "output_type": "execute_result",
          "data": {
            "text/plain": [
              "(array([48., 90., 54., 24., 17.,  5.,  0.,  0.,  1.,  2.]),\n",
              " array([ 345000.,  600500.,  856000., 1111500., 1367000., 1622500.,\n",
              "        1878000., 2133500., 2389000., 2644500., 2900000.]),\n",
              " <a list of 10 Patch objects>)"
            ]
          },
          "metadata": {
            "tags": []
          },
          "execution_count": 20
        },
        {
          "output_type": "display_data",
          "data": {
            "image/png": "[encoded data removed]",
            "text/plain": [
              "<Figure size 432x288 with 1 Axes>"
            ]
          },
          "metadata": {
            "tags": [],
            "needs_background": "light"
          }
        }
      ]
    },
    {
      "cell_type": "code",
      "metadata": {
        "colab": {
          "base_uri": "https://localhost:8080/",
          "height": 226
        },
        "id": "COjby5gzV2En",
        "outputId": "1f2baeb1-400d-46ff-9f74-32e18ce22b9c"
      },
      "source": [
        "plt.figure(figsize=(20,6))\r\n",
        "for i, tipo in enumerate(df.tipo.unique()):\r\n",
        "  plt.subplot(1, 3, i + 1)\r\n",
        "  plt.title(tipo)\r\n",
        "  plt.hist(df[df.tipo == tipo].preco)\r\n"
      ],
      "execution_count": 25,
      "outputs": [
        {
          "output_type": "display_data",
          "data": {
            "image/png": "[encoded data removed]",
            "text/plain": [
              "<Figure size 1440x432 with 3 Axes>"
            ]
          },
          "metadata": {
            "tags": [],
            "needs_background": "light"
          }
        }
      ]
    }
  ]
}